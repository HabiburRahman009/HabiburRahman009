{
  "nbformat": 4,
  "nbformat_minor": 0,
  "metadata": {
    "colab": {
      "name": "SNAusinNB.ipynb",
      "provenance": [],
      "collapsed_sections": [],
      "mount_file_id": "1-NAf_BSm5KQfhMMsl1zRsAROfMjeqjRo",
      "authorship_tag": "ABX9TyMBB99KEzZMlQgnsghe9VA2",
      "include_colab_link": true
    },
    "kernelspec": {
      "name": "python3",
      "display_name": "Python 3"
    },
    "language_info": {
      "name": "python"
    }
  },
  "cells": [
    {
      "cell_type": "markdown",
      "metadata": {
        "id": "view-in-github",
        "colab_type": "text"
      },
      "source": [
        "<a href=\"https://colab.research.google.com/github/HabiburRahman009/HabiburRahman009/blob/main/SNAusinNB.ipynb\" target=\"_parent\"><img src=\"https://colab.research.google.com/assets/colab-badge.svg\" alt=\"Open In Colab\"/></a>"
      ]
    },
    {
      "cell_type": "code",
      "source": [
        "import pandas as pd\n",
        "df = pd.read_csv(\"/content/drive/MyDrive/DATASETS.zip (Unzipped Files)/DATASETS/Social_Network_Ads.csv\")\n",
        "\n",
        "from sklearn.preprocessing import LabelEncoder\n",
        "le = LabelEncoder()\n",
        "\n",
        "dt=df\n",
        "dt.Gender = le.fit_transform(dt.Gender)\n",
        "\n",
        "\n",
        "x= dt.iloc[:,[1,2,3]].values\n",
        "y= dt.iloc[:,4].values\n",
        "\n",
        "from sklearn.model_selection import train_test_split\n",
        "x_train, x_test, y_train, y_test=train_test_split(x,y,test_size=0.2,\n",
        "random_state=11)\n",
        "\n",
        "from sklearn.naive_bayes import GaussianNB\n",
        "clf=GaussianNB()\n",
        "clf.fit(x_train,y_train)\n",
        "pr=clf.predict(x_test)\n",
        "\n",
        "count=0\n",
        "match=0\n",
        "for i in range(0,len(pr)):\n",
        "    if pr[i]==y_test[i]:\n",
        "      match=match+1\n",
        "    count=count+1\n",
        "print(count)\n",
        "print(match)\n",
        "print(clf.predict([[1,19,19000]]))\n",
        "print(clf.predict([[0,32,150000]]))\n",
        "\n",
        "print(clf.score(x,y))"
      ],
      "metadata": {
        "colab": {
          "base_uri": "https://localhost:8080/"
        },
        "id": "-qjGaAuD6OXP",
        "outputId": "fb7461d0-def7-495a-f515-988afb12cfaa"
      },
      "execution_count": 55,
      "outputs": [
        {
          "output_type": "stream",
          "name": "stdout",
          "text": [
            "80\n",
            "68\n",
            "[0]\n",
            "[1]\n",
            "0.8875\n"
          ]
        }
      ]
    }
  ]
}